{
 "cells": [
  {
   "cell_type": "markdown",
   "metadata": {},
   "source": [
    "# Menggabungkan Data Tempat Wisata dari Semua Provinsi\n",
    "\n",
    "Notebook ini akan menggabungkan semua file JSON tempat wisata dari setiap provinsi dan menambahkan kolom ID untuk setiap tempat wisata"
   ]
  },
  {
   "cell_type": "code",
   "execution_count": null,
   "metadata": {},
   "outputs": [
    {
     "ename": "",
     "evalue": "",
     "output_type": "error",
     "traceback": [
      "\u001b[1;31mRunning cells with '.venv (Python 3.10.9)' requires the ipykernel package.\n",
      "\u001b[1;31mRun the following command to install 'ipykernel' into the Python environment. \n",
      "\u001b[1;31mCommand: '\"d:/kuliah/sem6/dbs/CAPSTONE DBS/NusantaraGo-ML/.venv/Scripts/python.exe\" -m pip install ipykernel -U --force-reinstall'"
     ]
    }
   ],
   "source": [
    "import json\n",
    "import pandas as pd\n",
    "import os\n",
    "from pathlib import Path"
   ]
  },
  {
   "cell_type": "code",
   "execution_count": null,
   "metadata": {},
   "outputs": [],
   "source": [
    "# mendapatkan daftar semua file json di folder json\n",
    "json_dir = Path('json')\n",
    "json_files = list(json_dir.glob('tempat_wisata_*.json'))\n",
    "print(f\"jumlah file JSON yang ditemukan: {len(json_files)}\")"
   ]
  },
  {
   "cell_type": "code",
   "execution_count": null,
   "metadata": {},
   "outputs": [],
   "source": [
    "# membaca dan menggabungkan semua file JSON\n",
    "all_data = []\n",
    "current_id = 1\n",
    "\n",
    "for json_file in json_files:\n",
    "    with open(json_file, 'r', encoding='utf-8') as f:\n",
    "        data = json.load(f)\n",
    "        # menambahkan ID ke setiap tempat wisata\n",
    "        for item in data:\n",
    "            item['id'] = current_id\n",
    "            current_id += 1\n",
    "        all_data.extend(data)\n",
    "\n",
    "print(f\"Total tempat wisata yang digabungkan: {len(all_data)}\")"
   ]
  },
  {
   "cell_type": "code",
   "execution_count": null,
   "metadata": {},
   "outputs": [],
   "source": [
    "# membuat dataframe dari data yang digabungkan\n",
    "df = pd.DataFrame(all_data)\n",
    "\n",
    "# menampilkan informasi dataframe\n",
    "print(\"\\nInformasi DataFrame:\")\n",
    "print(df.info())\n",
    "\n",
    "# menampilkan beberapa baris pertama dataframe\n",
    "print(\"\\nContoh data:\")\n",
    "print(df.head())"
   ]
  },
  {
   "cell_type": "code",
   "execution_count": null,
   "metadata": {},
   "outputs": [],
   "source": [
    "# menyimpan hasil ke file JSON baru\n",
    "output_file = 'tempat_wisata_indonesia.json'\n",
    "with open(output_file, 'w', encoding='utf-8') as f:\n",
    "    json.dump(all_data, f, indent=2, ensure_ascii=False)\n",
    "\n",
    "print(f\"Data berhasil disimpan ke {output_file}\")"
   ]
  },
  {
   "cell_type": "code",
   "execution_count": null,
   "metadata": {},
   "outputs": [],
   "source": [
    "# menyimpan hasil ke file CSV\n",
    "csv_file = 'tempat_wisata_indonesia.csv'\n",
    "df.to_csv(csv_file, index=False, encoding='utf-8')\n",
    "\n",
    "print(f\"Data berhasil disimpan ke {csv_file}\")"
   ]
  }
 ],
 "metadata": {
  "kernelspec": {
   "display_name": ".venv",
   "language": "python",
   "name": "python3"
  },
  "language_info": {
   "name": "python",
   "version": "3.10.9"
  }
 },
 "nbformat": 4,
 "nbformat_minor": 2
}
