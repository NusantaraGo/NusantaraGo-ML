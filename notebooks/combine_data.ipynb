{
 "cells": [
  {
   "cell_type": "markdown",
   "metadata": {},
   "source": [
    "# Menggabungkan Data Tempat Wisata dari Semua Provinsi\n",
    "\n",
    "Notebook ini akan menggabungkan semua file JSON tempat wisata dari setiap provinsi dan menambahkan kolom ID untuk setiap tempat wisata"
   ]
  },
  {
   "cell_type": "code",
   "execution_count": 2,
   "metadata": {},
   "outputs": [],
   "source": [
    "import json\n",
    "import pandas as pd\n",
    "from pathlib import Path"
   ]
  },
  {
   "cell_type": "code",
   "execution_count": 3,
   "metadata": {},
   "outputs": [
    {
     "name": "stdout",
     "output_type": "stream",
     "text": [
      "jumlah file JSON yang ditemukan: 37\n"
     ]
    }
   ],
   "source": [
    "# mendapatkan daftar semua file json di folder json\n",
    "json_dir = Path('../Scrape_data/json')\n",
    "json_files = list(json_dir.glob('tempat_wisata_*.json'))\n",
    "print(f\"jumlah file JSON yang ditemukan: {len(json_files)}\")"
   ]
  },
  {
   "cell_type": "code",
   "execution_count": 4,
   "metadata": {},
   "outputs": [
    {
     "name": "stdout",
     "output_type": "stream",
     "text": [
      "Total tempat wisata yang digabungkan: 1169\n"
     ]
    }
   ],
   "source": [
    "# membaca dan menggabungkan semua file JSON\n",
    "all_data = []\n",
    "current_id = 1\n",
    "\n",
    "for json_file in json_files:\n",
    "    with open(json_file, 'r', encoding='utf-8') as f:\n",
    "        data = json.load(f)\n",
    "        # menambahkan ID ke setiap tempat wisata\n",
    "        for item in data:\n",
    "            item['id'] = current_id\n",
    "            current_id += 1\n",
    "        all_data.extend(data)\n",
    "\n",
    "print(f\"Total tempat wisata yang digabungkan: {len(all_data)}\")"
   ]
  },
  {
   "cell_type": "code",
   "execution_count": 12,
   "metadata": {},
   "outputs": [
    {
     "name": "stdout",
     "output_type": "stream",
     "text": [
      "\n",
      "Informasi DataFrame:\n",
      "<class 'pandas.core.frame.DataFrame'>\n",
      "RangeIndex: 1169 entries, 0 to 1168\n",
      "Data columns (total 11 columns):\n",
      " #   Column         Non-Null Count  Dtype \n",
      "---  ------         --------------  ----- \n",
      " 0   id             1169 non-null   int64 \n",
      " 1   nama           1169 non-null   object\n",
      " 2   alamat         1169 non-null   object\n",
      " 3   rating         1169 non-null   object\n",
      " 4   jumlah_review  1169 non-null   object\n",
      " 5   deskripsi      1169 non-null   object\n",
      " 6   koordinat      1169 non-null   object\n",
      " 7   url            1169 non-null   object\n",
      " 8   provinsi       1169 non-null   object\n",
      " 9   foto           1169 non-null   object\n",
      " 10  kategori       1169 non-null   object\n",
      "dtypes: int64(1), object(10)\n",
      "memory usage: 100.6+ KB\n",
      "None\n",
      "\n",
      "Contoh data:\n",
      "   id                           nama                               alamat  \\\n",
      "0   1          Pantai Tebing Lampuuk         Meunasah Balee, Kec. Lhoknga   \n",
      "1   2                  Pantai Sawang          Sawang, Kec. Samudera, Aceh   \n",
      "2   3  Nol Kilometer Kota Banda Aceh  Gampong Pande, Kec. Kuta Raja, Aceh   \n",
      "3   4              Pantai Ulee Lheue       Ulee Lheue, Kec. Meuraxa, Aceh   \n",
      "4   5           Pantai Ujong Kareung                                        \n",
      "\n",
      "  rating jumlah_review                                          deskripsi  \\\n",
      "0    4.6           758  Pantai Tebing Lampuuk, yang terletak di Kec. L...   \n",
      "1    3.6            31  Pantai Sawang atau yang dikenal juga dengan na...   \n",
      "2    4.4           661  Tugu Nol Kilometer Kota Banda Aceh adalah sebu...   \n",
      "3    4.5           625  Pantai Ulee Lheue di Banda Aceh adalah tempat ...   \n",
      "4    4.3           654  Pantai Ujong Kareung, yang sering disebut Pant...   \n",
      "\n",
      "                                          koordinat  \\\n",
      "0   {'latitude': 5.4970038, 'longitude': 95.227854}   \n",
      "1  {'latitude': 5.1545321, 'longitude': 97.2442516}   \n",
      "2  {'latitude': 5.5826227, 'longitude': 95.3141429}   \n",
      "3  {'latitude': 5.5643903, 'longitude': 95.2923091}   \n",
      "4   {'latitude': 4.124597, 'longitude': 96.1279608}   \n",
      "\n",
      "                                                 url provinsi  \\\n",
      "0  https://www.google.com/maps/place/Pantai+Tebin...     Aceh   \n",
      "1  https://www.google.com/maps/place/Pantai+Sawan...     Aceh   \n",
      "2  https://www.google.com/maps/place/Nol+Kilomete...     Aceh   \n",
      "3  https://www.google.com/maps/place/Pantai+Ulee+...     Aceh   \n",
      "4  https://www.google.com/maps/place/Pantai+Ujong...     Aceh   \n",
      "\n",
      "                                                foto   kategori  \n",
      "0  [https://lh3.googleusercontent.com/gps-cs-s/AC...   [pantai]  \n",
      "1  [https://lh3.googleusercontent.com/gps-cs-s/AC...   [pantai]  \n",
      "2  [https://lh3.googleusercontent.com/gps-cs-s/AC...  [lainnya]  \n",
      "3  [https://lh3.googleusercontent.com/gps-cs-s/AC...   [pantai]  \n",
      "4  [https://lh3.googleusercontent.com/gps-cs-s/AC...   [pantai]  \n"
     ]
    }
   ],
   "source": [
    "# membuat dataframe dari data yang digabungkan\n",
    "df = pd.DataFrame(all_data)\n",
    "\n",
    "# mengatur ulang urutan kolom dengan 'id' di urutan pertama\n",
    "columns = ['id'] + [col for col in df.columns if col != 'id']\n",
    "df = df[columns]\n",
    "\n",
    "# menampilkan informasi dataframe\n",
    "print(\"\\nInformasi DataFrame:\")\n",
    "print(df.info())\n",
    "\n",
    "# menampilkan beberapa baris pertama dataframe\n",
    "print(\"\\nContoh data:\")\n",
    "print(df.head())"
   ]
  },
  {
   "cell_type": "code",
   "execution_count": 13,
   "metadata": {},
   "outputs": [],
   "source": [
    "# mengubah data untuk disimpan ke JSON dengan urutan yang benar\n",
    "ordered_data = []\n",
    "for _, row in df.iterrows():\n",
    "    ordered_data.append(row.to_dict())"
   ]
  },
  {
   "cell_type": "code",
   "execution_count": 14,
   "metadata": {},
   "outputs": [
    {
     "name": "stdout",
     "output_type": "stream",
     "text": [
      "Data berhasil disimpan ke tempat_wisata_indonesia.json\n"
     ]
    }
   ],
   "source": [
    "# menyimpan hasil ke file JSON baru\n",
    "output_file = 'tempat_wisata_indonesia.json'\n",
    "with open(output_file, 'w', encoding='utf-8') as f:\n",
    "    json.dump(ordered_data, f, indent=2, ensure_ascii=False)\n",
    "\n",
    "print(f\"Data berhasil disimpan ke {output_file}\")"
   ]
  },
  {
   "cell_type": "code",
   "execution_count": 15,
   "metadata": {},
   "outputs": [
    {
     "name": "stdout",
     "output_type": "stream",
     "text": [
      "Data berhasil disimpan ke tempat_wisata_indonesia.csv\n"
     ]
    }
   ],
   "source": [
    "# menyimpan hasil ke file CSV\n",
    "csv_file = 'tempat_wisata_indonesia.csv'\n",
    "df.to_csv(csv_file, index=False, encoding='utf-8')\n",
    "\n",
    "print(f\"Data berhasil disimpan ke {csv_file}\")"
   ]
  },
  {
   "cell_type": "code",
   "execution_count": null,
   "metadata": {},
   "outputs": [],
   "source": []
  }
 ],
 "metadata": {
  "kernelspec": {
   "display_name": ".venv",
   "language": "python",
   "name": "python3"
  },
  "language_info": {
   "codemirror_mode": {
    "name": "ipython",
    "version": 3
   },
   "file_extension": ".py",
   "mimetype": "text/x-python",
   "name": "python",
   "nbconvert_exporter": "python",
   "pygments_lexer": "ipython3",
   "version": "3.10.9"
  }
 },
 "nbformat": 4,
 "nbformat_minor": 2
}
